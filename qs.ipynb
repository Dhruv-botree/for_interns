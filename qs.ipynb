{
 "cells": [
  {
   "cell_type": "code",
   "execution_count": 8,
   "metadata": {},
   "outputs": [],
   "source": [
    "import os, sys\n",
    "PWD = os.getenv('PWD')\n",
    "os.chdir(PWD)\n",
    "sys.path.insert(0, os.getenv('PWD'))\n",
    "os.environ.setdefault(\"DJANGO_SETTINGS_MODULE\", \"settings.py\")\n",
    "os.environ[\"DJANGO_ALLOW_ASYNC_UNSAFE\"] = \"true\"\n",
    "import django\n",
    "django.setup()"
   ]
  },
  {
   "cell_type": "code",
   "execution_count": 24,
   "metadata": {},
   "outputs": [],
   "source": [
    "from accounts.models import User,Facility,House"
   ]
  },
  {
   "cell_type": "code",
   "execution_count": 78,
   "metadata": {},
   "outputs": [],
   "source": [
    "from res_demo.models import Restaurant,Pizza,Topping\n",
    "from django.db.models import Q\n",
    "from pprint import pprint"
   ]
  },
  {
   "cell_type": "code",
   "execution_count": 18,
   "metadata": {},
   "outputs": [],
   "source": [
    "# ALL"
   ]
  },
  {
   "cell_type": "code",
   "execution_count": 21,
   "metadata": {},
   "outputs": [
    {
     "name": "stdout",
     "output_type": "stream",
     "text": [
      "SELECT \"accounts_house\".\"id\", \"accounts_house\".\"owner_id\", \"accounts_house\".\"address\" FROM \"accounts_house\"\n"
     ]
    }
   ],
   "source": [
    "print(House.objects.all())\n",
    "print(House.objects.all().query)"
   ]
  },
  {
   "cell_type": "code",
   "execution_count": 22,
   "metadata": {},
   "outputs": [
    {
     "name": "stdout",
     "output_type": "stream",
     "text": [
      "<QuerySet [<Facility: Table>, <Facility: Bed>, <Facility: Lamp>, <Facility: jacuzzi>, <Facility: Lift>, <Facility: Playroom>]>\n",
      "SELECT \"accounts_facility\".\"id\", \"accounts_facility\".\"name\" FROM \"accounts_facility\"\n"
     ]
    }
   ],
   "source": [
    "print(Facility.objects.all())\n",
    "print(Facility.objects.all().query)"
   ]
  },
  {
   "cell_type": "code",
   "execution_count": 23,
   "metadata": {},
   "outputs": [
    {
     "name": "stdout",
     "output_type": "stream",
     "text": [
      "<QuerySet [<Pizza: margarita (Cheese)>, <Pizza: Overloaded (Cheese, Jalapeno, Paneer, Olives, Mushroom)>, <Pizza: PineapplePizza (Pineapple, Cheese)>, <Pizza: HamPizza (Ham, Cheese, Jalapeno, Olives, Mushroom)>, <Pizza: SeaFood (Cheese, Jalapeno, Prawns, Olives, Mushroom)>]>\n",
      "SELECT \"res_demo_pizza\".\"id\", \"res_demo_pizza\".\"name\" FROM \"res_demo_pizza\"\n"
     ]
    }
   ],
   "source": [
    "print(Pizza.objects.all())\n",
    "print(Pizza.objects.all().query)"
   ]
  },
  {
   "cell_type": "code",
   "execution_count": 35,
   "metadata": {},
   "outputs": [],
   "source": [
    "# Filter query"
   ]
  },
  {
   "cell_type": "code",
   "execution_count": 37,
   "metadata": {},
   "outputs": [
    {
     "data": {
      "text/plain": [
       "<QuerySet [<User: test>, <User: u2>, <User: admin>]>"
      ]
     },
     "execution_count": 37,
     "metadata": {},
     "output_type": "execute_result"
    }
   ],
   "source": [
    "User.objects.all()"
   ]
  },
  {
   "cell_type": "code",
   "execution_count": 42,
   "metadata": {},
   "outputs": [
    {
     "name": "stdout",
     "output_type": "stream",
     "text": [
      "test\n",
      "SELECT \"accounts_user\".\"id\", \"accounts_user\".\"password\", \"accounts_user\".\"last_login\", \"accounts_user\".\"is_superuser\", \"accounts_user\".\"username\", \"accounts_user\".\"first_name\", \"accounts_user\".\"last_name\", \"accounts_user\".\"email\", \"accounts_user\".\"is_staff\", \"accounts_user\".\"is_active\", \"accounts_user\".\"date_joined\", \"accounts_user\".\"region\" FROM \"accounts_user\" WHERE \"accounts_user\".\"username\" = test\n"
     ]
    }
   ],
   "source": [
    "print(User.objects.filter(username=\"test\").get())\n",
    "print(User.objects.filter(username=\"test\").query)"
   ]
  },
  {
   "cell_type": "code",
   "execution_count": 65,
   "metadata": {},
   "outputs": [
    {
     "name": "stdout",
     "output_type": "stream",
     "text": [
      "<QuerySet [('margarita',), ('Overloaded',), ('PineapplePizza',), ('HamPizza',), ('SeaFood',)]>\n",
      "\n",
      "SELECT \"res_demo_pizza\".\"id\", \"res_demo_pizza\".\"name\" FROM \"res_demo_pizza\" INNER JOIN \"res_demo_pizza_toppings\" ON (\"res_demo_pizza\".\"id\" = \"res_demo_pizza_toppings\".\"pizza_id\") INNER JOIN \"res_demo_topping\" ON (\"res_demo_pizza_toppings\".\"topping_id\" = \"res_demo_topping\".\"id\") WHERE \"res_demo_topping\".\"name\" = Cheese\n"
     ]
    }
   ],
   "source": [
    "print(Pizza.objects.filter(toppings__name='Cheese').values_list(\"name\"),end=\"\\n\\n\")\n",
    "print(Pizza.objects.filter(toppings__name='Cheese').query)"
   ]
  },
  {
   "cell_type": "code",
   "execution_count": 95,
   "metadata": {},
   "outputs": [
    {
     "name": "stdout",
     "output_type": "stream",
     "text": [
      "<QuerySet [('margarita',), ('Overloaded',), ('PineapplePizza',), ('SeaFood',)]>\n",
      "\n",
      "<QuerySet [('HamPizza',)]>\n",
      "\n",
      "SELECT \"res_demo_pizza\".\"id\", \"res_demo_pizza\".\"name\" FROM \"res_demo_pizza\" WHERE NOT (\"res_demo_pizza\".\"id\" IN (SELECT U1.\"pizza_id\" FROM \"res_demo_pizza_toppings\" U1 INNER JOIN \"res_demo_topping\" U2 ON (U1.\"topping_id\" = U2.\"id\") WHERE U2.\"name\" = Ham))\n",
      "\n",
      "SELECT \"res_demo_pizza\".\"id\", \"res_demo_pizza\".\"name\" FROM \"res_demo_pizza\" INNER JOIN \"res_demo_pizza_toppings\" ON (\"res_demo_pizza\".\"id\" = \"res_demo_pizza_toppings\".\"pizza_id\") INNER JOIN \"res_demo_topping\" ON (\"res_demo_pizza_toppings\".\"topping_id\" = \"res_demo_topping\".\"id\") WHERE \"res_demo_topping\".\"name\" = Ham\n"
     ]
    }
   ],
   "source": [
    "print(Pizza.objects.exclude(toppings__name='Ham').values_list(\"name\"),end=\"\\n\\n\")\n",
    "print(Pizza.objects.filter(toppings__name='Ham').values_list(\"name\"),end=\"\\n\\n\")\n",
    "\n",
    "print(Pizza.objects.exclude(toppings__name='Ham').query,end=\"\\n\\n\")\n",
    "print(Pizza.objects.filter(toppings__name='Ham').query)"
   ]
  },
  {
   "cell_type": "code",
   "execution_count": 102,
   "metadata": {},
   "outputs": [
    {
     "name": "stdout",
     "output_type": "stream",
     "text": [
      "<QuerySet [<House: u2_aadfq>, <House: u2_aadfbq>]>\n",
      "\n",
      "SELECT \"accounts_house\".\"id\", \"accounts_house\".\"owner_id\", \"accounts_house\".\"address\" FROM \"accounts_house\" WHERE \"accounts_house\".\"address\" LIKE %q% ESCAPE '\\'\n"
     ]
    }
   ],
   "source": [
    "print(House.objects.filter(address__icontains=\"q\"),end=\"\\n\\n\")\n",
    "print(House.objects.filter(address__icontains=\"q\").query)"
   ]
  },
  {
   "cell_type": "code",
   "execution_count": 91,
   "metadata": {},
   "outputs": [
    {
     "name": "stdout",
     "output_type": "stream",
     "text": [
      "<QuerySet [<Restaurant: Joes>]>\n",
      "\n",
      "SELECT \"res_demo_restaurant\".\"id\", \"res_demo_restaurant\".\"name\", \"res_demo_restaurant\".\"best_pizza_id\" FROM \"res_demo_restaurant\" INNER JOIN \"res_demo_pizza\" ON (\"res_demo_restaurant\".\"best_pizza_id\" = \"res_demo_pizza\".\"id\") WHERE \"res_demo_pizza\".\"name\" = margarita \n",
      "\n",
      "\n",
      "<QuerySet [<Restaurant: Joes>, <Restaurant: VegResturant>]>\n",
      "\n",
      "SELECT \"res_demo_restaurant\".\"id\", \"res_demo_restaurant\".\"name\", \"res_demo_restaurant\".\"best_pizza_id\" FROM \"res_demo_restaurant\" INNER JOIN \"res_demo_pizza\" ON (\"res_demo_restaurant\".\"best_pizza_id\" = \"res_demo_pizza\".\"id\") WHERE (\"res_demo_pizza\".\"name\" = margarita OR \"res_demo_pizza\".\"name\" = Overloaded)\n"
     ]
    }
   ],
   "source": [
    "# Q\n",
    "print(Restaurant.objects.filter(best_pizza__name=\"margarita\"),end=\"\\n\\n\")\n",
    "print(Restaurant.objects.filter(best_pizza__name=\"margarita\").query,\"\\n\\n\")\n",
    "\n",
    "print(Restaurant.objects.filter(Q(best_pizza__name=\"margarita\") | Q(best_pizza__name=\"Overloaded\")),end=\"\\n\\n\")\n",
    "print(Restaurant.objects.filter(Q(best_pizza__name=\"margarita\")| Q(best_pizza__name=\"Overloaded\")).query)"
   ]
  },
  {
   "cell_type": "code",
   "execution_count": null,
   "metadata": {},
   "outputs": [],
   "source": [
    "#Reverse Query"
   ]
  },
  {
   "cell_type": "code",
   "execution_count": 57,
   "metadata": {},
   "outputs": [],
   "source": [
    "u = User.objects.get(username = \"test\")\n",
    "pizza = Pizza.objects.get(name=\"margarita\")"
   ]
  },
  {
   "cell_type": "code",
   "execution_count": 58,
   "metadata": {},
   "outputs": [
    {
     "data": {
      "text/plain": [
       "(<User: test>, <Pizza: margarita (Cheese)>)"
      ]
     },
     "execution_count": 58,
     "metadata": {},
     "output_type": "execute_result"
    }
   ],
   "source": [
    "u,pizza"
   ]
  },
  {
   "cell_type": "code",
   "execution_count": 62,
   "metadata": {},
   "outputs": [
    {
     "name": "stdout",
     "output_type": "stream",
     "text": [
      "<QuerySet [<Restaurant: Joes>, <Restaurant: VegResturant>, <Restaurant: Pomos>]>\n",
      "\n",
      "<QuerySet [<Restaurant: Joes>, <Restaurant: VegResturant>, <Restaurant: Pomos>]>\n"
     ]
    }
   ],
   "source": [
    "print(pizza.restaurants.all(),end=\"\\n\\n\")\n",
    "\n",
    "print(Restaurant.objects.filter(pizzas=pizza))"
   ]
  },
  {
   "cell_type": "code",
   "execution_count": 63,
   "metadata": {},
   "outputs": [
    {
     "name": "stdout",
     "output_type": "stream",
     "text": [
      "SELECT \"res_demo_restaurant\".\"id\", \"res_demo_restaurant\".\"name\", \"res_demo_restaurant\".\"best_pizza_id\" FROM \"res_demo_restaurant\" INNER JOIN \"res_demo_restaurant_pizzas\" ON (\"res_demo_restaurant\".\"id\" = \"res_demo_restaurant_pizzas\".\"restaurant_id\") WHERE \"res_demo_restaurant_pizzas\".\"pizza_id\" = 1\n",
      "\n",
      "SELECT \"res_demo_restaurant\".\"id\", \"res_demo_restaurant\".\"name\", \"res_demo_restaurant\".\"best_pizza_id\" FROM \"res_demo_restaurant\" INNER JOIN \"res_demo_restaurant_pizzas\" ON (\"res_demo_restaurant\".\"id\" = \"res_demo_restaurant_pizzas\".\"restaurant_id\") WHERE \"res_demo_restaurant_pizzas\".\"pizza_id\" = 1\n"
     ]
    }
   ],
   "source": [
    "print(Restaurant.objects.filter(pizzas=pizza).query,end=\"\\n\\n\")\n",
    "print(pizza.restaurants.all().query)"
   ]
  },
  {
   "cell_type": "code",
   "execution_count": 43,
   "metadata": {},
   "outputs": [],
   "source": [
    "#SELECT RELATED"
   ]
  },
  {
   "cell_type": "code",
   "execution_count": 50,
   "metadata": {},
   "outputs": [
    {
     "name": "stdout",
     "output_type": "stream",
     "text": [
      "<QuerySet [<Restaurant: Joes>, <Restaurant: VegResturant>, <Restaurant: Pomos>]>\n",
      "\n",
      "SELECT \"res_demo_restaurant\".\"id\", \"res_demo_restaurant\".\"name\", \"res_demo_restaurant\".\"best_pizza_id\", \"res_demo_pizza\".\"id\", \"res_demo_pizza\".\"name\" FROM \"res_demo_restaurant\" INNER JOIN \"res_demo_pizza\" ON (\"res_demo_restaurant\".\"best_pizza_id\" = \"res_demo_pizza\".\"id\")\n",
      "\n",
      "SELECT \"res_demo_restaurant\".\"id\", \"res_demo_restaurant\".\"name\", \"res_demo_restaurant\".\"best_pizza_id\" FROM \"res_demo_restaurant\"\n"
     ]
    }
   ],
   "source": [
    "print(Restaurant.objects.select_related(\"best_pizza\"),end=\"\\n\\n\")\n",
    "print(Restaurant.objects.select_related(\"best_pizza\").query,end=\"\\n\\n\")\n",
    "print(Restaurant.objects.all().query)"
   ]
  },
  {
   "cell_type": "code",
   "execution_count": null,
   "metadata": {},
   "outputs": [],
   "source": []
  },
  {
   "cell_type": "code",
   "execution_count": 10,
   "metadata": {},
   "outputs": [],
   "source": [
    "# Prefetch related"
   ]
  },
  {
   "cell_type": "code",
   "execution_count": 92,
   "metadata": {},
   "outputs": [
    {
     "name": "stdout",
     "output_type": "stream",
     "text": [
      "<QuerySet [<Pizza: margarita (Cheese)>, <Pizza: Overloaded (Cheese, Jalapeno, Paneer, Olives, Mushroom)>, <Pizza: PineapplePizza (Pineapple, Cheese)>, <Pizza: HamPizza (Ham, Cheese, Jalapeno, Olives, Mushroom)>, <Pizza: SeaFood (Cheese, Jalapeno, Prawns, Olives, Mushroom)>]>\n",
      "\n",
      "SELECT \"res_demo_pizza\".\"id\", \"res_demo_pizza\".\"name\" FROM \"res_demo_pizza\"\n"
     ]
    }
   ],
   "source": [
    "print(Pizza.objects.prefetch_related(\"toppings\"),end=\"\\n\\n\")\n",
    "print(Pizza.objects.prefetch_related(\"toppings\").query)"
   ]
  },
  {
   "cell_type": "code",
   "execution_count": 14,
   "metadata": {},
   "outputs": [
    {
     "data": {
      "text/plain": [
       "<QuerySet [<Pizza: margarita (Cheese)>, <Pizza: Overloaded (Cheese, Jalapeno, Paneer, Olives, Mushroom)>, <Pizza: PineapplePizza (Pineapple, Cheese)>, <Pizza: HamPizza (Ham, Cheese, Jalapeno, Olives, Mushroom)>, <Pizza: SeaFood (Cheese, Jalapeno, Prawns, Olives, Mushroom)>]>"
      ]
     },
     "execution_count": 14,
     "metadata": {},
     "output_type": "execute_result"
    }
   ],
   "source": [
    "Pizza.objects.all()"
   ]
  },
  {
   "cell_type": "code",
   "execution_count": null,
   "metadata": {},
   "outputs": [],
   "source": []
  }
 ],
 "metadata": {
  "kernelspec": {
   "display_name": "Django Shell-Plus",
   "language": "python",
   "name": "django_extensions"
  },
  "language_info": {
   "codemirror_mode": {
    "name": "ipython",
    "version": 3
   },
   "file_extension": ".py",
   "mimetype": "text/x-python",
   "name": "python",
   "nbconvert_exporter": "python",
   "pygments_lexer": "ipython3",
   "version": "3.7.5"
  }
 },
 "nbformat": 4,
 "nbformat_minor": 4
}
